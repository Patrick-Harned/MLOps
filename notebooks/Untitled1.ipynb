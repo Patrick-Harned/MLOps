{
 "cells": [
  {
   "cell_type": "markdown",
   "metadata": {},
   "source": [
    "## Configure the CPDCTL for coneecting to a cluster"
   ]
  },
  {
   "cell_type": "code",
   "execution_count": 16,
   "metadata": {},
   "outputs": [],
   "source": [
    "SPACE_NAME=\"p-test-space\"\n",
    "DEPLOY_NAME=\"p-test-deploy\""
   ]
  },
  {
   "cell_type": "code",
   "execution_count": 2,
   "metadata": {},
   "outputs": [
    {
     "name": "stdout",
     "output_type": "stream",
     "text": [
      "\u001b[1mName\u001b[0m      \u001b[1mUsername\u001b[0m   \n",
      "\u001b[36;1mqa-user\u001b[0m   admin   \n"
     ]
    }
   ],
   "source": [
    "cpdctl config users list\n",
    "cpdctl config users set qa-user --username=admin --password=password"
   ]
  },
  {
   "cell_type": "code",
   "execution_count": 10,
   "metadata": {},
   "outputs": [],
   "source": [
    "cpdctl config profiles set qa-cluster --user qa-user --url https://zen-cpd-zen.apps.pwh.ocp.csplab.local"
   ]
  },
  {
   "cell_type": "code",
   "execution_count": 7,
   "metadata": {},
   "outputs": [],
   "source": [
    "cpdctl config contexts set qa-context qa-cluster\n"
   ]
  },
  {
   "cell_type": "code",
   "execution_count": 8,
   "metadata": {},
   "outputs": [
    {
     "name": "stdout",
     "output_type": "stream",
     "text": [
      "1\n"
     ]
    }
   ],
   "source": [
    "cpdctl spaces list | grep prod-space | awk 'END{print NR}'"
   ]
  },
  {
   "cell_type": "code",
   "execution_count": 3,
   "metadata": {},
   "outputs": [
    {
     "name": "stdout",
     "output_type": "stream",
     "text": [
      "...\n",
      "\u001b[1mID\u001b[0m                                     \u001b[1mName\u001b[0m         \u001b[1mCreated\u001b[0m                    \u001b[1mTags\u001b[0m   \n",
      "\u001b[36;1m89642363-4593-4db5-bf02-f2141155963c\u001b[0m   prod-space   2020-10-20T17:28:20.894Z   []   \n"
     ]
    }
   ],
   "source": [
    "cpdctl spaces list "
   ]
  },
  {
   "cell_type": "code",
   "execution_count": 21,
   "metadata": {},
   "outputs": [
    {
     "name": "stdout",
     "output_type": "stream",
     "text": [
      "...\n",
      "\u001b[1mID\u001b[0m                                     \u001b[1mName\u001b[0m           \u001b[1mCreated\u001b[0m                    \u001b[1mTags\u001b[0m   \n",
      "\u001b[36;1m713f8e3e-4a37-4961-8d08-c8cacfaf469d\u001b[0m   p-test-space   2020-10-20T17:42:46.956Z   []   \n",
      "\u001b[36;1mfc235249-e514-4c39-9f53-3fcae22b6996\u001b[0m   prod-space     2020-10-20T17:33:14.777Z   []   \n",
      "713f8e3e-4a37-4961-8d08-c8cacfaf469d\n"
     ]
    }
   ],
   "source": [
    "str1=$(cpdctl spaces list | grep $SPACE_NAME | awk 'END{print NR}')\n",
    "if [[ $str1 != 1 ]]; then\n",
    " echo \"deleting extra spaces\";\n",
    " cpdctl spaces list | grep $SPACE_NAME | awk 'NR>1{print $1}' | xargs -I{} cpdctl spaces delete --space_id {}\n",
    "fi\n",
    "if [[ $str1 == 0 ]]; then\n",
    " echo \"creating space\"\n",
    "cpdctl spaces create --name $SPACE_NAME\n",
    " else\n",
    "   cpdctl spaces list\n",
    "   export SPACE_ID=$(cpdctl spaces list | grep $SPACE_NAME | awk '{ print $1}')\n",
    "   echo $SPACE_ID\n",
    "fi"
   ]
  },
  {
   "cell_type": "code",
   "execution_count": 22,
   "metadata": {},
   "outputs": [
    {
     "name": "stdout",
     "output_type": "stream",
     "text": [
      "No models found, creating model\n",
      "...\n",
      "\u001b[1m\u001b[0m           \u001b[1m\u001b[0m   \n",
      "\u001b[36;1mID:\u001b[0m        9401811f-8e3d-45d5-8540-b8266b7189e3   \n",
      "\u001b[36;1mName:\u001b[0m      mlopsmodel   \n",
      "\u001b[36;1mCreated:\u001b[0m   2020-10-20T18:00:19.002Z   \n",
      "\u001b[36;1mType:\u001b[0m      scikit-learn_0.22   \n",
      "\u001b[36;1mTags:\u001b[0m      []   \n",
      "null\n"
     ]
    }
   ],
   "source": [
    "models=$(cpdctl wml models list --space-id $SPACE_ID | awk 'NR>1')\n",
    "if [[ $models == \"Nothing to show.\" ]]; then\n",
    "   echo \"No models found, creating model\"\n",
    "   cpdctl wml models create --name mlopsmodel --space-id $SPACE_ID --software-spec '{\"name\": \"scikit-learn_0.22-py3.6\"}' --type 'scikit-learn_0.22'\n",
    "   \n",
    "   export MODEL_ID=$(cpdctl wml models list --space-id $SPACE_ID | grep mlopsmodel | awk '{ print $1}')\n",
    "   cpdctl wml models upload-content --body mlopsmodelpipeline.tar.gz --model-id $MODEL_ID --content-format 'binary' --space-id $SPACE_ID --output json\n",
    "\n",
    " else\n",
    "   cpdctl wml models list --space-id $SPACE_ID\n",
    "   export MODEL_ID=$(cpdctl wml models list --space-id $SPACE_ID | grep mlopsmodel | awk '{ print $1}')\n",
    "   echo $MODEL_ID\n",
    "   cpdctl wml models upload-content --body mlopsmodelpipeline.tar.gz --model-id $MODEL_ID --content-format 'binary' --space-id $SPACE_ID --output json\n",
    "   \n",
    "fi"
   ]
  },
  {
   "cell_type": "code",
   "execution_count": 23,
   "metadata": {},
   "outputs": [
    {
     "name": "stdout",
     "output_type": "stream",
     "text": [
      "Nothing to show.\n",
      "Creating Deployment\n",
      "...\n",
      "\u001b[1m\u001b[0m               \u001b[1m\u001b[0m   \n",
      "\u001b[36;1mID:\u001b[0m            6f72017e-af84-4186-bc15-bf44ae5a3ff7   \n",
      "\u001b[36;1mName:\u001b[0m          p-test-deploy   \n",
      "\u001b[36;1mCreated:\u001b[0m       2020-10-20T18:00:40.501Z   \n",
      "\u001b[36;1mDescription:\u001b[0m      \n",
      "\u001b[36;1mState:\u001b[0m         ready   \n",
      "\u001b[36;1mTags:\u001b[0m          []   \n",
      "\n"
     ]
    }
   ],
   "source": [
    "deployments=$(cpdctl wml deployments list --space-id $SPACE_ID |awk 'NR>1')\n",
    "echo $deployments\n",
    "if [[ $deployments == \"Nothing to show.\" ]]; then\n",
    "echo \"Creating Deployment\"\n",
    "cpdctl wml deployments create --name $DEPLOY_NAME --online '{\"description\": \"mlopsdeploy\"}' --asset '{\"id\": \"'\"$MODEL_ID\"'\"}' --space-id $SPACE_ID\n",
    "fi\n",
    "DEPLOY_ID=$(cpdctl wml deployments list --space-id $SPACE_ID | grep $DEPLOY_NAME| awk 'NR>2{print $1}')\n",
    "echo $DEPLOY_ID"
   ]
  },
  {
   "cell_type": "code",
   "execution_count": 24,
   "metadata": {},
   "outputs": [
    {
     "name": "stdout",
     "output_type": "stream",
     "text": [
      "...\n",
      "\u001b[1mID\u001b[0m                                     \u001b[1mName\u001b[0m            \u001b[1mCreated\u001b[0m                    \u001b[1mDescription\u001b[0m   \u001b[1mState\u001b[0m   \u001b[1mTags\u001b[0m   \n",
      "\u001b[36;1m6f72017e-af84-4186-bc15-bf44ae5a3ff7\u001b[0m   p-test-deploy   2020-10-20T18:00:40.501Z                 ready   []   \n"
     ]
    }
   ],
   "source": [
    "cpdctl wml deployments list --space-id $SPACE_ID"
   ]
  },
  {
   "cell_type": "code",
   "execution_count": 30,
   "metadata": {},
   "outputs": [
    {
     "name": "stdout",
     "output_type": "stream",
     "text": [
      "{\n",
      "  \"entity\": {\n",
      "    \"asset\": {\n",
      "      \"id\": \"9401811f-8e3d-45d5-8540-b8266b7189e3\"\n",
      "    },\n",
      "    \"custom\": {},\n",
      "    \"description\": \"\",\n",
      "    \"name\": \"p-test-deploy\",\n",
      "    \"online\": {},\n",
      "    \"space_id\": \"713f8e3e-4a37-4961-8d08-c8cacfaf469d\",\n",
      "    \"status\": {\n",
      "      \"online_url\": {\n",
      "        \"url\": \"https://zen-cpd-zen.apps.pwh.ocp.csplab.local/v4/deployments/6f72017e-af84-4186-bc15-bf44ae5a3ff7/predictions\"\n",
      "      },\n",
      "      \"state\": \"ready\"\n",
      "    }\n",
      "  },\n",
      "  \"metadata\": {\n",
      "    \"created_at\": \"2020-10-20T18:00:40.501Z\",\n",
      "    \"description\": \"\",\n",
      "    \"id\": \"6f72017e-af84-4186-bc15-bf44ae5a3ff7\",\n",
      "    \"modified_at\": \"2020-10-20T18:00:40.501Z\",\n",
      "    \"name\": \"p-test-deploy\",\n",
      "    \"space_id\": \"713f8e3e-4a37-4961-8d08-c8cacfaf469d\"\n",
      "  }\n",
      "}\n"
     ]
    }
   ],
   "source": [
    "cpdctl wml deployments get --deployment-id '6f72017e-af84-4186-bc15-bf44ae5a3ff7' --space-id $SPACE_ID --output json"
   ]
  },
  {
   "cell_type": "code",
   "execution_count": 35,
   "metadata": {},
   "outputs": [],
   "source": [
    "asset=$(echo \"'\"$(cat asset.json)\"'\")"
   ]
  },
  {
   "cell_type": "code",
   "execution_count": 18,
   "metadata": {},
   "outputs": [
    {
     "name": "stdout",
     "output_type": "stream",
     "text": [
      "\n"
     ]
    }
   ],
   "source": [
    "echo $DEPLOY_ID"
   ]
  },
  {
   "cell_type": "code",
   "execution_count": 10,
   "metadata": {},
   "outputs": [
    {
     "name": "stdout",
     "output_type": "stream",
     "text": [
      "dde25682-e6cc-4dfe-9ce9-0c9f4a7dc55a\n"
     ]
    }
   ],
   "source": [
    "echo $DEPLOY_ID"
   ]
  },
  {
   "cell_type": "code",
   "execution_count": 20,
   "metadata": {},
   "outputs": [
    {
     "name": "stdout",
     "output_type": "stream",
     "text": [
      "{\n",
      "  \"predictions\": [\n",
      "    {\n",
      "      \"fields\": [\n",
      "        \"prediction\",\n",
      "        \"probability\"\n",
      "      ],\n",
      "      \"values\": [\n",
      "        [\n",
      "          9,\n",
      "          [\n",
      "            0.0019493161921729843,\n",
      "            0.001304343320243037,\n",
      "            0.0007079363358815012,\n",
      "            0.0008947145181351228,\n",
      "            0.0010433292618768476,\n",
      "            0.003976107818992792,\n",
      "            0.0011521134168434308,\n",
      "            0.0008233651358512275,\n",
      "            0.005568478988915326,\n",
      "            0.9825802950110881\n",
      "          ]\n",
      "        ]\n",
      "      ]\n",
      "    }\n",
      "  ]\n",
      "}\n"
     ]
    }
   ],
   "source": [
    "cpdctl wml deployments compute-predictions --output json --deployment-id $DEPLOY_ID --input-data '[{\"values\":[[0.0,0.0,2.0,10.0,7.0,0.0,0.0,0.0,0.0,0.0,14.0,16.0,16.0,15.0,1.0,0.0,0.0,4.0,16.0,7.0,3.0,16.0,7.0,0.0,0.0,5.0,16.0,10.0,7.0,16.0,4.0,0.0,0.0,0.0,5.0,14.0,14.0,16.0,4.0,0.0,0.0,0.0,0.0,0.0,0.0,16.0,2.0,0.0,0.0,0.0,4.0,7.0,7.0,16.0,2.0,0.0,0.0,0.0,5.0,12.0,16.0,12.0,0.0,0.0]]}]'"
   ]
  },
  {
   "cell_type": "code",
   "execution_count": 15,
   "metadata": {},
   "outputs": [],
   "source": [
    "FIELDS=$(head -n1  data.csv | awk -F\",\" '{ $65=$66=$67=\"\";print $0}'  | rev | cut -c 2- | rev |  awk -v OFS=\",\" '{for (i=1; i<=NF; ++i){$i=\"\\\"\"$i\"\\\"\"}}1')"
   ]
  },
  {
   "cell_type": "code",
   "execution_count": 16,
   "metadata": {},
   "outputs": [
    {
     "name": "stdout",
     "output_type": "stream",
     "text": [
      "\"Column0\",\"Column1\",\"Column2\",\"Column3\",\"Column4\",\"Column5\",\"Column6\",\"Column7\",\"Column8\",\"Column9\",\"Column10\",\"Column11\",\"Column12\",\"Column13\",\"Column14\",\"Column15\",\"Column16\",\"Column17\",\"Column18\",\"Column19\",\"Column20\",\"Column21\",\"Column22\",\"Column23\",\"Column24\",\"Column25\",\"Column26\",\"Column27\",\"Column28\",\"Column29\",\"Column30\",\"Column31\",\"Column32\",\"Column33\",\"Column34\",\"Column35\",\"Column36\",\"Column37\",\"Column38\",\"Column39\",\"Column40\",\"Column41\",\"Column42\",\"Column43\",\"Column44\",\"Column45\",\"Column46\",\"Column47\",\"Column48\",\"Column49\",\"Column50\",\"Column51\",\"Column52\",\"Column53\",\"Column54\",\"Column55\",\"Column56\",\"Column57\",\"Column58\",\"Column59\",\"Column60\",\"Column61\",\"Column62\",\"Column63\"\n"
     ]
    }
   ],
   "source": [
    "echo $FIELDS"
   ]
  },
  {
   "cell_type": "code",
   "execution_count": 22,
   "metadata": {},
   "outputs": [
    {
     "name": "stdout",
     "output_type": "stream",
     "text": [
      "[{\"fields\": [\"Column0\",\"Column1\",\"Column2\",\"Column3\",\"Column4\",\"Column5\",\"Column6\",\"Column7\",\"Column8\",\"Column9\",\"Column10\",\"Column11\",\"Column12\",\"Column13\",\"Column14\",\"Column15\",\"Column16\",\"Column17\",\"Column18\",\"Column19\",\"Column20\",\"Column21\",\"Column22\",\"Column23\",\"Column24\",\"Column25\",\"Column26\",\"Column27\",\"Column28\",\"Column29\",\"Column30\",\"Column31\",\"Column32\",\"Column33\",\"Column34\",\"Column35\",\"Column36\",\"Column37\",\"Column38\",\"Column39\",\"Column40\",\"Column41\",\"Column42\",\"Column43\",\"Column44\",\"Column45\",\"Column46\",\"Column47\",\"Column48\",\"Column49\",\"Column50\",\"Column51\",\"Column52\",\"Column53\",\"Column54\",\"Column55\",\"Column56\",\"Column57\",\"Column58\",\"Column59\",\"Column60\",\"Column61\",\"Column62\",\"Column63\"] , \"values\": [[0.0,0.0,5.0,13.0,9.0,1.0,0.0,0.0,0.0,0.0,13.0,15.0,10.0,15.0,5.0,0.0,0.0,3.0,15.0,2.0,0.0,11.0,8.0,0.0,0.0,4.0,12.0,0.0,0.0,8.0,8.0,0.0,0.0,5.0,8.0,0.0,0.0,9.0,8.0,0.0,0.0,4.0,11.0,0.0,1.0,12.0,7.0,0.0,0.0,2.0,14.0,5.0,10.0,12.0,0.0,0.0,0.0,0.0,6.0,13.0,10.0,0.0,0.0,0.0]]}]\n",
      "\u001b[31;1mFAILED\u001b[0m\n",
      "\n",
      "\n",
      "\u001b[1mtrace\u001b[0m            \u001b[1mcode\u001b[0m                         \u001b[1mmessage\u001b[0m   \n",
      "\u001b[36;1m-1w3w7bwxl9t7k\u001b[0m   deployment_does_not_exists   Deployment for model with deployment Id 'dde25682-e6cc-4dfe-9ce9-0c9f4a7dc55a' either doesn't exist or has been deprecated and unsupported.   \n",
      "[{\"fields\": [\"Column0\",\"Column1\",\"Column2\",\"Column3\",\"Column4\",\"Column5\",\"Column6\",\"Column7\",\"Column8\",\"Column9\",\"Column10\",\"Column11\",\"Column12\",\"Column13\",\"Column14\",\"Column15\",\"Column16\",\"Column17\",\"Column18\",\"Column19\",\"Column20\",\"Column21\",\"Column22\",\"Column23\",\"Column24\",\"Column25\",\"Column26\",\"Column27\",\"Column28\",\"Column29\",\"Column30\",\"Column31\",\"Column32\",\"Column33\",\"Column34\",\"Column35\",\"Column36\",\"Column37\",\"Column38\",\"Column39\",\"Column40\",\"Column41\",\"Column42\",\"Column43\",\"Column44\",\"Column45\",\"Column46\",\"Column47\",\"Column48\",\"Column49\",\"Column50\",\"Column51\",\"Column52\",\"Column53\",\"Column54\",\"Column55\",\"Column56\",\"Column57\",\"Column58\",\"Column59\",\"Column60\",\"Column61\",\"Column62\",\"Column63\"] , \"values\": [[0.0,0.0,0.0,12.0,13.0,5.0,0.0,0.0,0.0,0.0,0.0,11.0,16.0,9.0,0.0,0.0,0.0,0.0,3.0,15.0,16.0,6.0,0.0,0.0,0.0,7.0,15.0,16.0,16.0,2.0,0.0,0.0,0.0,0.0,1.0,16.0,16.0,3.0,0.0,0.0,0.0,0.0,1.0,16.0,16.0,6.0,0.0,0.0,0.0,0.0,1.0,16.0,16.0,6.0,0.0,0.0,0.0,0.0,0.0,11.0,16.0,10.0,0.0,0.0]]}]\n",
      "\u001b[31;1mFAILED\u001b[0m\n",
      "\n",
      "\n",
      "\u001b[1mtrace\u001b[0m            \u001b[1mcode\u001b[0m                         \u001b[1mmessage\u001b[0m   \n",
      "\u001b[36;1m-1ouk6h1w8b6zo\u001b[0m   deployment_does_not_exists   Deployment for model with deployment Id 'dde25682-e6cc-4dfe-9ce9-0c9f4a7dc55a' either doesn't exist or has been deprecated and unsupported.   \n",
      "[{\"fields\": [\"Column0\",\"Column1\",\"Column2\",\"Column3\",\"Column4\",\"Column5\",\"Column6\",\"Column7\",\"Column8\",\"Column9\",\"Column10\",\"Column11\",\"Column12\",\"Column13\",\"Column14\",\"Column15\",\"Column16\",\"Column17\",\"Column18\",\"Column19\",\"Column20\",\"Column21\",\"Column22\",\"Column23\",\"Column24\",\"Column25\",\"Column26\",\"Column27\",\"Column28\",\"Column29\",\"Column30\",\"Column31\",\"Column32\",\"Column33\",\"Column34\",\"Column35\",\"Column36\",\"Column37\",\"Column38\",\"Column39\",\"Column40\",\"Column41\",\"Column42\",\"Column43\",\"Column44\",\"Column45\",\"Column46\",\"Column47\",\"Column48\",\"Column49\",\"Column50\",\"Column51\",\"Column52\",\"Column53\",\"Column54\",\"Column55\",\"Column56\",\"Column57\",\"Column58\",\"Column59\",\"Column60\",\"Column61\",\"Column62\",\"Column63\"] , \"values\": [[0.0,0.0,0.0,4.0,15.0,12.0,0.0,0.0,0.0,0.0,3.0,16.0,15.0,14.0,0.0,0.0,0.0,0.0,8.0,13.0,8.0,16.0,0.0,0.0,0.0,0.0,1.0,6.0,15.0,11.0,0.0,0.0,0.0,1.0,8.0,13.0,15.0,1.0,0.0,0.0,0.0,9.0,16.0,16.0,5.0,0.0,0.0,0.0,0.0,3.0,13.0,16.0,16.0,11.0,5.0,0.0,0.0,0.0,0.0,3.0,11.0,16.0,9.0,0.0]]}]\n",
      "\u001b[31;1mFAILED\u001b[0m\n",
      "\n",
      "\n",
      "\u001b[1mtrace\u001b[0m           \u001b[1mcode\u001b[0m                         \u001b[1mmessage\u001b[0m   \n",
      "\u001b[36;1m1mf76h6tqd46m\u001b[0m   deployment_does_not_exists   Deployment for model with deployment Id 'dde25682-e6cc-4dfe-9ce9-0c9f4a7dc55a' either doesn't exist or has been deprecated and unsupported.   \n",
      "[{\"fields\": [\"Column0\",\"Column1\",\"Column2\",\"Column3\",\"Column4\",\"Column5\",\"Column6\",\"Column7\",\"Column8\",\"Column9\",\"Column10\",\"Column11\",\"Column12\",\"Column13\",\"Column14\",\"Column15\",\"Column16\",\"Column17\",\"Column18\",\"Column19\",\"Column20\",\"Column21\",\"Column22\",\"Column23\",\"Column24\",\"Column25\",\"Column26\",\"Column27\",\"Column28\",\"Column29\",\"Column30\",\"Column31\",\"Column32\",\"Column33\",\"Column34\",\"Column35\",\"Column36\",\"Column37\",\"Column38\",\"Column39\",\"Column40\",\"Column41\",\"Column42\",\"Column43\",\"Column44\",\"Column45\",\"Column46\",\"Column47\",\"Column48\",\"Column49\",\"Column50\",\"Column51\",\"Column52\",\"Column53\",\"Column54\",\"Column55\",\"Column56\",\"Column57\",\"Column58\",\"Column59\",\"Column60\",\"Column61\",\"Column62\",\"Column63\"] , \"values\": [[0.0,0.0,7.0,15.0,13.0,1.0,0.0,0.0,0.0,8.0,13.0,6.0,15.0,4.0,0.0,0.0,0.0,2.0,1.0,13.0,13.0,0.0,0.0,0.0,0.0,0.0,2.0,15.0,11.0,1.0,0.0,0.0,0.0,0.0,0.0,1.0,12.0,12.0,1.0,0.0,0.0,0.0,0.0,0.0,1.0,10.0,8.0,0.0,0.0,0.0,8.0,4.0,5.0,14.0,9.0,0.0,0.0,0.0,7.0,13.0,13.0,9.0,0.0,0.0]]}]\n",
      "\u001b[31;1mFAILED\u001b[0m\n",
      "\n",
      "\n",
      "\u001b[1mtrace\u001b[0m           \u001b[1mmessage\u001b[0m                                                                                                                                       \u001b[1mcode\u001b[0m   \n",
      "\u001b[36;1m-1w7cir0iyeds\u001b[0m   Deployment for model with deployment Id 'dde25682-e6cc-4dfe-9ce9-0c9f4a7dc55a' either doesn't exist or has been deprecated and unsupported.   deployment_does_not_exists   \n",
      "[{\"fields\": [\"Column0\",\"Column1\",\"Column2\",\"Column3\",\"Column4\",\"Column5\",\"Column6\",\"Column7\",\"Column8\",\"Column9\",\"Column10\",\"Column11\",\"Column12\",\"Column13\",\"Column14\",\"Column15\",\"Column16\",\"Column17\",\"Column18\",\"Column19\",\"Column20\",\"Column21\",\"Column22\",\"Column23\",\"Column24\",\"Column25\",\"Column26\",\"Column27\",\"Column28\",\"Column29\",\"Column30\",\"Column31\",\"Column32\",\"Column33\",\"Column34\",\"Column35\",\"Column36\",\"Column37\",\"Column38\",\"Column39\",\"Column40\",\"Column41\",\"Column42\",\"Column43\",\"Column44\",\"Column45\",\"Column46\",\"Column47\",\"Column48\",\"Column49\",\"Column50\",\"Column51\",\"Column52\",\"Column53\",\"Column54\",\"Column55\",\"Column56\",\"Column57\",\"Column58\",\"Column59\",\"Column60\",\"Column61\",\"Column62\",\"Column63\"] , \"values\": [[0.0,0.0,0.0,1.0,11.0,0.0,0.0,0.0,0.0,0.0,0.0,7.0,8.0,0.0,0.0,0.0,0.0,0.0,1.0,13.0,6.0,2.0,2.0,0.0,0.0,0.0,7.0,15.0,0.0,9.0,8.0,0.0,0.0,5.0,16.0,10.0,0.0,16.0,6.0,0.0,0.0,4.0,15.0,16.0,13.0,16.0,1.0,0.0,0.0,0.0,0.0,3.0,15.0,10.0,0.0,0.0,0.0,0.0,0.0,2.0,16.0,4.0,0.0,0.0]]}]\n",
      "\u001b[31;1mFAILED\u001b[0m\n",
      "\n",
      "\n",
      "\u001b[1mtrace\u001b[0m           \u001b[1mmessage\u001b[0m                                                                                                                                       \u001b[1mcode\u001b[0m   \n",
      "\u001b[36;1m-upyjgb0gt8z0\u001b[0m   Deployment for model with deployment Id 'dde25682-e6cc-4dfe-9ce9-0c9f4a7dc55a' either doesn't exist or has been deprecated and unsupported.   deployment_does_not_exists   \n",
      "[{\"fields\": [\"Column0\",\"Column1\",\"Column2\",\"Column3\",\"Column4\",\"Column5\",\"Column6\",\"Column7\",\"Column8\",\"Column9\",\"Column10\",\"Column11\",\"Column12\",\"Column13\",\"Column14\",\"Column15\",\"Column16\",\"Column17\",\"Column18\",\"Column19\",\"Column20\",\"Column21\",\"Column22\",\"Column23\",\"Column24\",\"Column25\",\"Column26\",\"Column27\",\"Column28\",\"Column29\",\"Column30\",\"Column31\",\"Column32\",\"Column33\",\"Column34\",\"Column35\",\"Column36\",\"Column37\",\"Column38\",\"Column39\",\"Column40\",\"Column41\",\"Column42\",\"Column43\",\"Column44\",\"Column45\",\"Column46\",\"Column47\",\"Column48\",\"Column49\",\"Column50\",\"Column51\",\"Column52\",\"Column53\",\"Column54\",\"Column55\",\"Column56\",\"Column57\",\"Column58\",\"Column59\",\"Column60\",\"Column61\",\"Column62\",\"Column63\"] , \"values\": [[0.0,0.0,12.0,10.0,0.0,0.0,0.0,0.0,0.0,0.0,14.0,16.0,16.0,14.0,0.0,0.0,0.0,0.0,13.0,16.0,15.0,10.0,1.0,0.0,0.0,0.0,11.0,16.0,16.0,7.0,0.0,0.0,0.0,0.0,0.0,4.0,7.0,16.0,7.0,0.0,0.0,0.0,0.0,0.0,4.0,16.0,9.0,0.0,0.0,0.0,5.0,4.0,12.0,16.0,4.0,0.0,0.0,0.0,9.0,16.0,16.0,10.0,0.0,0.0]]}]\n",
      "\u001b[31;1mFAILED\u001b[0m\n",
      "\n",
      "\n",
      "\u001b[1mtrace\u001b[0m          \u001b[1mcode\u001b[0m                         \u001b[1mmessage\u001b[0m   \n",
      "\u001b[36;1mw4d2rouszczn\u001b[0m   deployment_does_not_exists   Deployment for model with deployment Id 'dde25682-e6cc-4dfe-9ce9-0c9f4a7dc55a' either doesn't exist or has been deprecated and unsupported.   \n",
      "[{\"fields\": [\"Column0\",\"Column1\",\"Column2\",\"Column3\",\"Column4\",\"Column5\",\"Column6\",\"Column7\",\"Column8\",\"Column9\",\"Column10\",\"Column11\",\"Column12\",\"Column13\",\"Column14\",\"Column15\",\"Column16\",\"Column17\",\"Column18\",\"Column19\",\"Column20\",\"Column21\",\"Column22\",\"Column23\",\"Column24\",\"Column25\",\"Column26\",\"Column27\",\"Column28\",\"Column29\",\"Column30\",\"Column31\",\"Column32\",\"Column33\",\"Column34\",\"Column35\",\"Column36\",\"Column37\",\"Column38\",\"Column39\",\"Column40\",\"Column41\",\"Column42\",\"Column43\",\"Column44\",\"Column45\",\"Column46\",\"Column47\",\"Column48\",\"Column49\",\"Column50\",\"Column51\",\"Column52\",\"Column53\",\"Column54\",\"Column55\",\"Column56\",\"Column57\",\"Column58\",\"Column59\",\"Column60\",\"Column61\",\"Column62\",\"Column63\"] , \"values\": [[0.0,0.0,0.0,12.0,13.0,0.0,0.0,0.0,0.0,0.0,5.0,16.0,8.0,0.0,0.0,0.0,0.0,0.0,13.0,16.0,3.0,0.0,0.0,0.0,0.0,0.0,14.0,13.0,0.0,0.0,0.0,0.0,0.0,0.0,15.0,12.0,7.0,2.0,0.0,0.0,0.0,0.0,13.0,16.0,13.0,16.0,3.0,0.0,0.0,0.0,7.0,16.0,11.0,15.0,8.0,0.0,0.0,0.0,1.0,9.0,15.0,11.0,3.0,0.0]]}]\n",
      "\n"
     ]
    }
   ],
   "source": [
    "for row in $(awk -F\",\" -v OFS=\",\" 'NR>1{$66=$65=\"\"; print}' datawoprob.csv | rev| cut -c 3- | rev); \n",
    "do payload='[{\"fields\": '\"[$FIELDS] \"', \"values\": '\"[[$row]]\"'}]';\n",
    "echo $payload;\n",
    "cpdctl wml  deployments compute-predictions --deployment-id $DEPLOY_ID --input-data \"$payload\" --output json\n",
    " done"
   ]
  },
  {
   "cell_type": "code",
   "execution_count": 24,
   "metadata": {},
   "outputs": [
    {
     "name": "stdout",
     "output_type": "stream",
     "text": [
      "...\n",
      "\u001b[31;1mFAILED\u001b[0m\n",
      "\n",
      "\n",
      "\u001b[1mtrace\u001b[0m           \u001b[1mmessage\u001b[0m                                                                                                   \u001b[1mcode\u001b[0m   \n",
      "\u001b[36;1m14lxc5j7iiiq7\u001b[0m   Failed to fetch space details : '/v4/spaces/1552222d-2762-4006-847d-d1d675ff6f66' for the current user.   space_validation_failure   \n"
     ]
    },
    {
     "ename": "",
     "evalue": "1",
     "output_type": "error",
     "traceback": []
    }
   ],
   "source": [
    "cpdctl wml deployments list --space-id $SPACE_ID"
   ]
  },
  {
   "cell_type": "code",
   "execution_count": null,
   "metadata": {},
   "outputs": [],
   "source": []
  }
 ],
 "metadata": {
  "kernelspec": {
   "display_name": "Bash",
   "language": "bash",
   "name": "bash"
  },
  "language_info": {
   "codemirror_mode": "shell",
   "file_extension": ".sh",
   "mimetype": "text/x-sh",
   "name": "bash"
  }
 },
 "nbformat": 4,
 "nbformat_minor": 4
}
