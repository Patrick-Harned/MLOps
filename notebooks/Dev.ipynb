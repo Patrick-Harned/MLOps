{
 "cells": [
  {
   "cell_type": "code",
   "execution_count": 3,
   "metadata": {},
   "outputs": [],
   "source": [
    "def train():\n",
    "\n",
    "\n",
    "    from sklearn import datasets\n",
    "    iris = datasets.load_iris()\n",
    "    digits = datasets.load_digits()\n",
    "\n",
    "    from sklearn import svm\n",
    "    clf = svm.SVC(gamma=0.001, C=100.)\n",
    "    clf.fit(digits.data[:-1], digits.target[:-1])\n",
    "    return clf\n",
    "\n",
    "\n",
    "def pickle(clf):\n",
    "    import pickle\n",
    "    s = pickle.dump(clf, open( \"save.p\", \"wb\" ))\n",
    "\n",
    "    return s\n",
    "\n",
    "clf = train()\n"
   ]
  },
  {
   "cell_type": "code",
   "execution_count": 26,
   "metadata": {},
   "outputs": [
    {
     "data": {
      "text/plain": [
       "array([[ 0.,  0.,  5., ...,  0.,  0.,  0.],\n",
       "       [ 0.,  0.,  0., ..., 10.,  0.,  0.],\n",
       "       [ 0.,  0.,  0., ..., 16.,  9.,  0.],\n",
       "       ...,\n",
       "       [ 0.,  0.,  1., ...,  6.,  0.,  0.],\n",
       "       [ 0.,  0.,  2., ..., 12.,  0.,  0.],\n",
       "       [ 0.,  0., 10., ..., 12.,  1.,  0.]])"
      ]
     },
     "execution_count": 26,
     "metadata": {},
     "output_type": "execute_result"
    }
   ],
   "source": [
    "from sklearn import datasets\n",
    "data = datasets.load_digits()\n",
    "data.data"
   ]
  },
  {
   "cell_type": "code",
   "execution_count": 8,
   "metadata": {},
   "outputs": [],
   "source": [
    "from ibm_watson_machine_learning import APIClient\n",
    "\n",
    "defaults = {\"username\": \"admin\", \"password\": \"password\",\n",
    "                    \"url\": \"https://zen-cpd-zen.apps.pwh.ocp.csplab.local\", \"instance_id\":\"wml_local\", \"version\":\"3.0.1\"}"
   ]
  },
  {
   "cell_type": "code",
   "execution_count": 9,
   "metadata": {},
   "outputs": [
    {
     "name": "stderr",
     "output_type": "stream",
     "text": [
      "/usr/local/Caskroom/miniconda/base/envs/pyspark/lib/python3.8/site-packages/urllib3/connectionpool.py:981: InsecureRequestWarning: Unverified HTTPS request is being made to host 'zen-cpd-zen.apps.pwh.ocp.csplab.local'. Adding certificate verification is strongly advised. See: https://urllib3.readthedocs.io/en/latest/advanced-usage.html#ssl-warnings\n",
      "  warnings.warn(\n"
     ]
    }
   ],
   "source": [
    "client = APIClient(defaults)"
   ]
  },
  {
   "cell_type": "code",
   "execution_count": 11,
   "metadata": {},
   "outputs": [
    {
     "name": "stderr",
     "output_type": "stream",
     "text": [
      "/usr/local/Caskroom/miniconda/base/envs/pyspark/lib/python3.8/site-packages/urllib3/connectionpool.py:981: InsecureRequestWarning: Unverified HTTPS request is being made to host 'zen-cpd-zen.apps.pwh.ocp.csplab.local'. Adding certificate verification is strongly advised. See: https://urllib3.readthedocs.io/en/latest/advanced-usage.html#ssl-warnings\n",
      "  warnings.warn(\n"
     ]
    },
    {
     "name": "stdout",
     "output_type": "stream",
     "text": [
      "------------------------------------  ----------------  ------------------------\n",
      "GUID                                  NAME              CREATED\n",
      "86f8581a-77f4-47eb-a578-04fd7db645c4  jenkinstestspace  2020-10-08T20:31:20.569Z\n",
      "------------------------------------  ----------------  ------------------------\n"
     ]
    }
   ],
   "source": [
    "client.spaces.list()"
   ]
  },
  {
   "cell_type": "code",
   "execution_count": 12,
   "metadata": {},
   "outputs": [
    {
     "name": "stderr",
     "output_type": "stream",
     "text": [
      "/usr/local/Caskroom/miniconda/base/envs/pyspark/lib/python3.8/site-packages/urllib3/connectionpool.py:981: InsecureRequestWarning: Unverified HTTPS request is being made to host 'zen-cpd-zen.apps.pwh.ocp.csplab.local'. Adding certificate verification is strongly advised. See: https://urllib3.readthedocs.io/en/latest/advanced-usage.html#ssl-warnings\n",
      "  warnings.warn(\n"
     ]
    },
    {
     "data": {
      "text/plain": [
       "'SUCCESS'"
      ]
     },
     "execution_count": 12,
     "metadata": {},
     "output_type": "execute_result"
    }
   ],
   "source": [
    "client.set.default_space('86f8581a-77f4-47eb-a578-04fd7db645c4')"
   ]
  },
  {
   "cell_type": "code",
   "execution_count": 15,
   "metadata": {},
   "outputs": [
    {
     "data": {
      "text/plain": [
       "'154010fa-5b3b-4ac1-82af-4d5ee5abbc85'"
      ]
     },
     "execution_count": 15,
     "metadata": {},
     "output_type": "execute_result"
    }
   ],
   "source": [
    "client.software_specifications.get_id_by_name(\"scikit-learn_0.22-py3.6\")"
   ]
  },
  {
   "cell_type": "code",
   "execution_count": 16,
   "metadata": {},
   "outputs": [],
   "source": [
    "model_artifact = client.repository.store_model(clf, meta_props={\n",
    "            client.repository.ModelMetaNames.NAME: \"openscaletestmodel\",\n",
    "            client.repository.ModelMetaNames.TYPE: 'scikit-learn_0.22',\n",
    "            client.repository.ModelMetaNames.SOFTWARE_SPEC_UID: '154010fa-5b3b-4ac1-82af-4d5ee5abbc85'})"
   ]
  },
  {
   "cell_type": "code",
   "execution_count": 17,
   "metadata": {},
   "outputs": [
    {
     "name": "stderr",
     "output_type": "stream",
     "text": [
      "/usr/local/Caskroom/miniconda/base/envs/pyspark/lib/python3.8/site-packages/urllib3/connectionpool.py:981: InsecureRequestWarning: Unverified HTTPS request is being made to host 'zen-cpd-zen.apps.pwh.ocp.csplab.local'. Adding certificate verification is strongly advised. See: https://urllib3.readthedocs.io/en/latest/advanced-usage.html#ssl-warnings\n",
      "  warnings.warn(\n"
     ]
    },
    {
     "name": "stdout",
     "output_type": "stream",
     "text": [
      "WARNING!! 'runtimes' is DEPRECATED. Use 'software_specifications' instead to create and manage runtimes/specifications\n",
      "WARNING!! 'runtimes' is DEPRECATED. Use 'software_specifications' instead to create and manage runtimes/specifications\n"
     ]
    },
    {
     "data": {
      "text/plain": [
       "{'models': {'first': {'href': '/v4/models?space_id=86f8581a-77f4-47eb-a578-04fd7db645c4'},\n",
       "  'resources': [{'metadata': {'name': 'openscaletestmodel',\n",
       "     'guid': 'df2303e7-073e-43d2-a396-de108e5cfb55',\n",
       "     'id': 'df2303e7-073e-43d2-a396-de108e5cfb55',\n",
       "     'modified_at': '2020-10-08T20:57:04.002Z',\n",
       "     'created_at': '2020-10-08T20:57:01.002Z',\n",
       "     'owner': '1000330999',\n",
       "     'href': '/v4/models/df2303e7-073e-43d2-a396-de108e5cfb55?space_id=86f8581a-77f4-47eb-a578-04fd7db645c4',\n",
       "     'space_id': '86f8581a-77f4-47eb-a578-04fd7db645c4'},\n",
       "    'entity': {'name': 'openscaletestmodel',\n",
       "     'content_status': {'state': 'persisted'},\n",
       "     'software_spec': {'id': '154010fa-5b3b-4ac1-82af-4d5ee5abbc85'},\n",
       "     'space': {'id': '86f8581a-77f4-47eb-a578-04fd7db645c4',\n",
       "      'href': '/v4/spaces/86f8581a-77f4-47eb-a578-04fd7db645c4'},\n",
       "     'type': 'scikit-learn_0.22'}}]},\n",
       " 'experiments': {'first': {'href': '/v4/experiments?space_id=86f8581a-77f4-47eb-a578-04fd7db645c4'},\n",
       "  'resources': []},\n",
       " 'pipeline': {'first': {'href': '/v4/pipelines?space_id=86f8581a-77f4-47eb-a578-04fd7db645c4&summary=false'},\n",
       "  'resources': []},\n",
       " 'runtimes': {'first': {'href': '/v4/runtimes?space_id=86f8581a-77f4-47eb-a578-04fd7db645c4'},\n",
       "  'limit': 100,\n",
       "  'resources': []},\n",
       " 'libraries': {'first': {'href': '/v4/libraries?space_id=86f8581a-77f4-47eb-a578-04fd7db645c4'},\n",
       "  'limit': 100,\n",
       "  'resources': []},\n",
       " 'spaces': {'resources': [{'metadata': {'name': 'jenkinstestspace',\n",
       "     'role': 'Admin',\n",
       "     'guid': '86f8581a-77f4-47eb-a578-04fd7db645c4',\n",
       "     'id': '86f8581a-77f4-47eb-a578-04fd7db645c4',\n",
       "     'created_at': '2020-10-08T20:31:20.569Z',\n",
       "     'owner': '1000330999',\n",
       "     'href': '/v4/spaces/86f8581a-77f4-47eb-a578-04fd7db645c4'},\n",
       "    'entity': {'name': 'jenkinstestspace'}}]},\n",
       " 'functions': {'first': {'href': '/v4/functions?space_id=86f8581a-77f4-47eb-a578-04fd7db645c4'},\n",
       "  'resources': []}}"
      ]
     },
     "execution_count": 17,
     "metadata": {},
     "output_type": "execute_result"
    }
   ],
   "source": [
    "client.repository.get_details()"
   ]
  },
  {
   "cell_type": "code",
   "execution_count": 19,
   "metadata": {},
   "outputs": [
    {
     "name": "stdout",
     "output_type": "stream",
     "text": [
      "\n",
      "\n",
      "#######################################################################################\n",
      "\n",
      "Synchronous deployment creation for uid: 'df2303e7-073e-43d2-a396-de108e5cfb55' started\n",
      "\n",
      "#######################################################################################\n",
      "\n",
      "\n",
      "initializing\n",
      "ready\n",
      "\n",
      "\n",
      "------------------------------------------------------------------------------------------------\n",
      "Successfully finished deployment creation, deployment_uid='06a97143-2820-4f73-a4fe-d8b646b2e69d'\n",
      "------------------------------------------------------------------------------------------------\n",
      "\n",
      "\n"
     ]
    }
   ],
   "source": [
    "deployment = client.deployments.create(artifact_uid=\"df2303e7-073e-43d2-a396-de108e5cfb55\", meta_props={\n",
    "            client.deployments.ConfigurationMetaNames.NAME: \"openscaletestmodel\",\n",
    "            client.deployments.ConfigurationMetaNames.ONLINE: {}})"
   ]
  },
  {
   "cell_type": "code",
   "execution_count": 20,
   "metadata": {},
   "outputs": [],
   "source": [
    "from ibm_ai_openscale import APIClient4ICP"
   ]
  },
  {
   "cell_type": "code",
   "execution_count": 21,
   "metadata": {},
   "outputs": [],
   "source": [
    "aiclient = APIClient4ICP(defaults)"
   ]
  },
  {
   "cell_type": "code",
   "execution_count": null,
   "metadata": {},
   "outputs": [],
   "source": [
    "subscription = aiclient.data_mart.subscriptions.add(WatsonMachineLearningAsset(\n",
    "    model_uid,\n",
    "    problem_type=ProblemType.MULTICLASS_CLASSIFICATION, # Change depending on problem type\n",
    "    input_data_type=InputDataType.STRUCTURED,       # Change depending on problem type\n",
    "    label_column= TARGET,\n",
    " # Optional\n",
    "    prediction_column='prediction',\n",
    "    probability_column='probability',\n",
    "    # Replace values below with your values. Note: this step can be also done through the UI.\n",
    "    feature_columns = [\"CheckingStatus\",\"LoanDuration\",\"CreditHistory\",\"LoanPurpose\",\"LoanAmount\",\"ExistingSavings\",\"EmploymentDuration\",\"InstallmentPercent\",\"Sex\",\"OthersOnLoan\",\"CurrentResidenceDuration\",\"OwnsProperty\",\"Age\",\"InstallmentPlans\",\"Housing\",\"ExistingCreditsCount\",\"Job\",\"Dependents\",\"Telephone\",\"ForeignWorker\"],\n",
    "    categorical_columns = [\"CheckingStatus\",\"CreditHistory\",\"LoanPurpose\",\"ExistingSavings\",\"EmploymentDuration\",\"Sex\",\"OthersOnLoan\",\"OwnsProperty\",\"InstallmentPlans\",\"Housing\",\"Job\",\"Telephone\",\"ForeignWorker\"],\n",
    "    training_data_reference = {'connection': {'database_name': 'BLUDB',\n",
    "                                              'hostname': 'dashdb-txn-sbox-yp-dal09-03.services.dal.bluemix.net',\n",
    "                                              'password': 'khhz72v+6mcwwkfv',\n",
    "                                              'username': 'cmb91569'},\n",
    "                                             'location': {'schema_name': 'CMB91569',\n",
    "                                              'table_name': 'CREDIT_RISK_TRAIN_DATA'},\n",
    "                                             'type': 'db2'}\n",
    "    \n",
    "))\n"
   ]
  }
 ],
 "metadata": {
  "kernelspec": {
   "display_name": "Python 3",
   "language": "python",
   "name": "python3"
  },
  "language_info": {
   "codemirror_mode": {
    "name": "ipython",
    "version": 3
   },
   "file_extension": ".py",
   "mimetype": "text/x-python",
   "name": "python",
   "nbconvert_exporter": "python",
   "pygments_lexer": "ipython3",
   "version": "3.8.5"
  }
 },
 "nbformat": 4,
 "nbformat_minor": 4
}
